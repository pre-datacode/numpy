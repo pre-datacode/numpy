{
 "cells": [
  {
   "cell_type": "markdown",
   "id": "2c8872e0",
   "metadata": {},
   "source": [
    "## Graduate Rotational Internship Program-The Sparks Foundation"
   ]
  },
  {
   "cell_type": "markdown",
   "id": "f86b656b",
   "metadata": {},
   "source": [
    "### GripJuly2021"
   ]
  },
  {
   "cell_type": "markdown",
   "id": "930e196a",
   "metadata": {},
   "source": [
    "### Author: Preeti Singh"
   ]
  },
  {
   "cell_type": "markdown",
   "id": "5fd13c00",
   "metadata": {},
   "source": [
    "### Task2: From the given ‘Iris’ dataset, predict the optimum number of clusters and represent it visually.\n",
    " "
   ]
  },
  {
   "cell_type": "markdown",
   "id": "45c00b91",
   "metadata": {},
   "source": [
    "### importing all necessary libraries"
   ]
  },
  {
   "cell_type": "code",
   "execution_count": 138,
   "id": "7301249b",
   "metadata": {},
   "outputs": [],
   "source": [
    "import numpy as np\n",
    "import pandas as pd\n",
    "import matplotlib.pyplot as plt\n",
    "import seaborn as sns\n",
    "from sklearn.cluster import KMeans\n",
    "import warnings\n",
    "warnings.filterwarnings('ignore')"
   ]
  },
  {
   "cell_type": "markdown",
   "id": "d1b5b714",
   "metadata": {},
   "source": [
    "### importing the data"
   ]
  },
  {
   "cell_type": "code",
   "execution_count": 139,
   "id": "f8c3dddb",
   "metadata": {},
   "outputs": [],
   "source": [
    "\n",
    "iris_data=pd.read_csv(\"Iris.csv\")\n"
   ]
  },
  {
   "cell_type": "markdown",
   "id": "597df667",
   "metadata": {},
   "source": [
    "### checking head of the data"
   ]
  },
  {
   "cell_type": "code",
   "execution_count": 140,
   "id": "df9ec3f2",
   "metadata": {},
   "outputs": [
    {
     "data": {
      "text/html": [
       "<div>\n",
       "<style scoped>\n",
       "    .dataframe tbody tr th:only-of-type {\n",
       "        vertical-align: middle;\n",
       "    }\n",
       "\n",
       "    .dataframe tbody tr th {\n",
       "        vertical-align: top;\n",
       "    }\n",
       "\n",
       "    .dataframe thead th {\n",
       "        text-align: right;\n",
       "    }\n",
       "</style>\n",
       "<table border=\"1\" class=\"dataframe\">\n",
       "  <thead>\n",
       "    <tr style=\"text-align: right;\">\n",
       "      <th></th>\n",
       "      <th>Id</th>\n",
       "      <th>SepalLengthCm</th>\n",
       "      <th>SepalWidthCm</th>\n",
       "      <th>PetalLengthCm</th>\n",
       "      <th>PetalWidthCm</th>\n",
       "      <th>Species</th>\n",
       "    </tr>\n",
       "  </thead>\n",
       "  <tbody>\n",
       "    <tr>\n",
       "      <th>0</th>\n",
       "      <td>1</td>\n",
       "      <td>5.1</td>\n",
       "      <td>3.5</td>\n",
       "      <td>1.4</td>\n",
       "      <td>0.2</td>\n",
       "      <td>Iris-setosa</td>\n",
       "    </tr>\n",
       "    <tr>\n",
       "      <th>1</th>\n",
       "      <td>2</td>\n",
       "      <td>4.9</td>\n",
       "      <td>3.0</td>\n",
       "      <td>1.4</td>\n",
       "      <td>0.2</td>\n",
       "      <td>Iris-setosa</td>\n",
       "    </tr>\n",
       "    <tr>\n",
       "      <th>2</th>\n",
       "      <td>3</td>\n",
       "      <td>4.7</td>\n",
       "      <td>3.2</td>\n",
       "      <td>1.3</td>\n",
       "      <td>0.2</td>\n",
       "      <td>Iris-setosa</td>\n",
       "    </tr>\n",
       "    <tr>\n",
       "      <th>3</th>\n",
       "      <td>4</td>\n",
       "      <td>4.6</td>\n",
       "      <td>3.1</td>\n",
       "      <td>1.5</td>\n",
       "      <td>0.2</td>\n",
       "      <td>Iris-setosa</td>\n",
       "    </tr>\n",
       "    <tr>\n",
       "      <th>4</th>\n",
       "      <td>5</td>\n",
       "      <td>5.0</td>\n",
       "      <td>3.6</td>\n",
       "      <td>1.4</td>\n",
       "      <td>0.2</td>\n",
       "      <td>Iris-setosa</td>\n",
       "    </tr>\n",
       "  </tbody>\n",
       "</table>\n",
       "</div>"
      ],
      "text/plain": [
       "   Id  SepalLengthCm  SepalWidthCm  PetalLengthCm  PetalWidthCm      Species\n",
       "0   1            5.1           3.5            1.4           0.2  Iris-setosa\n",
       "1   2            4.9           3.0            1.4           0.2  Iris-setosa\n",
       "2   3            4.7           3.2            1.3           0.2  Iris-setosa\n",
       "3   4            4.6           3.1            1.5           0.2  Iris-setosa\n",
       "4   5            5.0           3.6            1.4           0.2  Iris-setosa"
      ]
     },
     "execution_count": 140,
     "metadata": {},
     "output_type": "execute_result"
    }
   ],
   "source": [
    "iris_data.head()"
   ]
  },
  {
   "cell_type": "markdown",
   "id": "1a236e7e",
   "metadata": {},
   "source": [
    "### checking of shape of data"
   ]
  },
  {
   "cell_type": "code",
   "execution_count": 141,
   "id": "ee534228",
   "metadata": {},
   "outputs": [
    {
     "data": {
      "text/plain": [
       "(150, 6)"
      ]
     },
     "execution_count": 141,
     "metadata": {},
     "output_type": "execute_result"
    }
   ],
   "source": [
    "iris_data.shape"
   ]
  },
  {
   "cell_type": "markdown",
   "id": "08450fb9",
   "metadata": {},
   "source": [
    "### cheking info of data"
   ]
  },
  {
   "cell_type": "code",
   "execution_count": 142,
   "id": "49f9ae99",
   "metadata": {},
   "outputs": [
    {
     "name": "stdout",
     "output_type": "stream",
     "text": [
      "<class 'pandas.core.frame.DataFrame'>\n",
      "RangeIndex: 150 entries, 0 to 149\n",
      "Data columns (total 6 columns):\n",
      " #   Column         Non-Null Count  Dtype  \n",
      "---  ------         --------------  -----  \n",
      " 0   Id             150 non-null    int64  \n",
      " 1   SepalLengthCm  150 non-null    float64\n",
      " 2   SepalWidthCm   150 non-null    float64\n",
      " 3   PetalLengthCm  150 non-null    float64\n",
      " 4   PetalWidthCm   150 non-null    float64\n",
      " 5   Species        150 non-null    object \n",
      "dtypes: float64(4), int64(1), object(1)\n",
      "memory usage: 7.2+ KB\n"
     ]
    }
   ],
   "source": [
    "iris_data.info()"
   ]
  },
  {
   "cell_type": "markdown",
   "id": "ab5a8787",
   "metadata": {},
   "source": [
    "### cheking descriptive statistics of data:"
   ]
  },
  {
   "cell_type": "code",
   "execution_count": 144,
   "id": "4e474571",
   "metadata": {},
   "outputs": [
    {
     "data": {
      "text/html": [
       "<div>\n",
       "<style scoped>\n",
       "    .dataframe tbody tr th:only-of-type {\n",
       "        vertical-align: middle;\n",
       "    }\n",
       "\n",
       "    .dataframe tbody tr th {\n",
       "        vertical-align: top;\n",
       "    }\n",
       "\n",
       "    .dataframe thead th {\n",
       "        text-align: right;\n",
       "    }\n",
       "</style>\n",
       "<table border=\"1\" class=\"dataframe\">\n",
       "  <thead>\n",
       "    <tr style=\"text-align: right;\">\n",
       "      <th></th>\n",
       "      <th>Id</th>\n",
       "      <th>SepalLengthCm</th>\n",
       "      <th>SepalWidthCm</th>\n",
       "      <th>PetalLengthCm</th>\n",
       "      <th>PetalWidthCm</th>\n",
       "    </tr>\n",
       "  </thead>\n",
       "  <tbody>\n",
       "    <tr>\n",
       "      <th>count</th>\n",
       "      <td>150.000000</td>\n",
       "      <td>150.000000</td>\n",
       "      <td>150.000000</td>\n",
       "      <td>150.000000</td>\n",
       "      <td>150.000000</td>\n",
       "    </tr>\n",
       "    <tr>\n",
       "      <th>mean</th>\n",
       "      <td>75.500000</td>\n",
       "      <td>5.843333</td>\n",
       "      <td>3.054000</td>\n",
       "      <td>3.758667</td>\n",
       "      <td>1.198667</td>\n",
       "    </tr>\n",
       "    <tr>\n",
       "      <th>std</th>\n",
       "      <td>43.445368</td>\n",
       "      <td>0.828066</td>\n",
       "      <td>0.433594</td>\n",
       "      <td>1.764420</td>\n",
       "      <td>0.763161</td>\n",
       "    </tr>\n",
       "    <tr>\n",
       "      <th>min</th>\n",
       "      <td>1.000000</td>\n",
       "      <td>4.300000</td>\n",
       "      <td>2.000000</td>\n",
       "      <td>1.000000</td>\n",
       "      <td>0.100000</td>\n",
       "    </tr>\n",
       "    <tr>\n",
       "      <th>25%</th>\n",
       "      <td>38.250000</td>\n",
       "      <td>5.100000</td>\n",
       "      <td>2.800000</td>\n",
       "      <td>1.600000</td>\n",
       "      <td>0.300000</td>\n",
       "    </tr>\n",
       "    <tr>\n",
       "      <th>50%</th>\n",
       "      <td>75.500000</td>\n",
       "      <td>5.800000</td>\n",
       "      <td>3.000000</td>\n",
       "      <td>4.350000</td>\n",
       "      <td>1.300000</td>\n",
       "    </tr>\n",
       "    <tr>\n",
       "      <th>75%</th>\n",
       "      <td>112.750000</td>\n",
       "      <td>6.400000</td>\n",
       "      <td>3.300000</td>\n",
       "      <td>5.100000</td>\n",
       "      <td>1.800000</td>\n",
       "    </tr>\n",
       "    <tr>\n",
       "      <th>max</th>\n",
       "      <td>150.000000</td>\n",
       "      <td>7.900000</td>\n",
       "      <td>4.400000</td>\n",
       "      <td>6.900000</td>\n",
       "      <td>2.500000</td>\n",
       "    </tr>\n",
       "  </tbody>\n",
       "</table>\n",
       "</div>"
      ],
      "text/plain": [
       "               Id  SepalLengthCm  SepalWidthCm  PetalLengthCm  PetalWidthCm\n",
       "count  150.000000     150.000000    150.000000     150.000000    150.000000\n",
       "mean    75.500000       5.843333      3.054000       3.758667      1.198667\n",
       "std     43.445368       0.828066      0.433594       1.764420      0.763161\n",
       "min      1.000000       4.300000      2.000000       1.000000      0.100000\n",
       "25%     38.250000       5.100000      2.800000       1.600000      0.300000\n",
       "50%     75.500000       5.800000      3.000000       4.350000      1.300000\n",
       "75%    112.750000       6.400000      3.300000       5.100000      1.800000\n",
       "max    150.000000       7.900000      4.400000       6.900000      2.500000"
      ]
     },
     "execution_count": 144,
     "metadata": {},
     "output_type": "execute_result"
    }
   ],
   "source": [
    "iris_data.describe()"
   ]
  },
  {
   "cell_type": "markdown",
   "id": "686e8df7",
   "metadata": {},
   "source": [
    " note: mean diffrence is not so large in diffrent variables .so we don't need to scale data."
   ]
  },
  {
   "cell_type": "markdown",
   "id": "06ac6297",
   "metadata": {},
   "source": [
    "### checking missing values"
   ]
  },
  {
   "cell_type": "code",
   "execution_count": 145,
   "id": "597b229c",
   "metadata": {},
   "outputs": [
    {
     "data": {
      "text/plain": [
       "Id               0\n",
       "SepalLengthCm    0\n",
       "SepalWidthCm     0\n",
       "PetalLengthCm    0\n",
       "PetalWidthCm     0\n",
       "Species          0\n",
       "dtype: int64"
      ]
     },
     "execution_count": 145,
     "metadata": {},
     "output_type": "execute_result"
    }
   ],
   "source": [
    "iris_data.isnull().sum()"
   ]
  },
  {
   "cell_type": "markdown",
   "id": "9c550c18",
   "metadata": {},
   "source": [
    "no missing values"
   ]
  },
  {
   "cell_type": "markdown",
   "id": "14f6893a",
   "metadata": {},
   "source": [
    "### counting unique values in Species:"
   ]
  },
  {
   "cell_type": "code",
   "execution_count": 147,
   "id": "651c1144",
   "metadata": {},
   "outputs": [
    {
     "data": {
      "text/plain": [
       "Iris-versicolor    50\n",
       "Iris-setosa        50\n",
       "Iris-virginica     50\n",
       "Name: Species, dtype: int64"
      ]
     },
     "execution_count": 147,
     "metadata": {},
     "output_type": "execute_result"
    }
   ],
   "source": [
    "iris_data[\"Species\"].value_counts()"
   ]
  },
  {
   "cell_type": "markdown",
   "id": "ffd16ba6",
   "metadata": {},
   "source": [
    "### checking duplicates"
   ]
  },
  {
   "cell_type": "code",
   "execution_count": 148,
   "id": "245720e0",
   "metadata": {},
   "outputs": [
    {
     "data": {
      "text/plain": [
       "0"
      ]
     },
     "execution_count": 148,
     "metadata": {},
     "output_type": "execute_result"
    }
   ],
   "source": [
    "dupes=iris_data.duplicated()\n",
    "sum(dupes)"
   ]
  },
  {
   "cell_type": "markdown",
   "id": "c6e3525e",
   "metadata": {},
   "source": [
    "### removing unwanted columns:"
   ]
  },
  {
   "cell_type": "code",
   "execution_count": 149,
   "id": "97deda9a",
   "metadata": {},
   "outputs": [],
   "source": [
    "df=iris_data.drop([\"Id\",\"Species\"],axis=1)"
   ]
  },
  {
   "cell_type": "code",
   "execution_count": 150,
   "id": "dc88b8af",
   "metadata": {},
   "outputs": [
    {
     "data": {
      "text/html": [
       "<div>\n",
       "<style scoped>\n",
       "    .dataframe tbody tr th:only-of-type {\n",
       "        vertical-align: middle;\n",
       "    }\n",
       "\n",
       "    .dataframe tbody tr th {\n",
       "        vertical-align: top;\n",
       "    }\n",
       "\n",
       "    .dataframe thead th {\n",
       "        text-align: right;\n",
       "    }\n",
       "</style>\n",
       "<table border=\"1\" class=\"dataframe\">\n",
       "  <thead>\n",
       "    <tr style=\"text-align: right;\">\n",
       "      <th></th>\n",
       "      <th>SepalLengthCm</th>\n",
       "      <th>SepalWidthCm</th>\n",
       "      <th>PetalLengthCm</th>\n",
       "      <th>PetalWidthCm</th>\n",
       "    </tr>\n",
       "  </thead>\n",
       "  <tbody>\n",
       "    <tr>\n",
       "      <th>0</th>\n",
       "      <td>5.1</td>\n",
       "      <td>3.5</td>\n",
       "      <td>1.4</td>\n",
       "      <td>0.2</td>\n",
       "    </tr>\n",
       "    <tr>\n",
       "      <th>1</th>\n",
       "      <td>4.9</td>\n",
       "      <td>3.0</td>\n",
       "      <td>1.4</td>\n",
       "      <td>0.2</td>\n",
       "    </tr>\n",
       "    <tr>\n",
       "      <th>2</th>\n",
       "      <td>4.7</td>\n",
       "      <td>3.2</td>\n",
       "      <td>1.3</td>\n",
       "      <td>0.2</td>\n",
       "    </tr>\n",
       "    <tr>\n",
       "      <th>3</th>\n",
       "      <td>4.6</td>\n",
       "      <td>3.1</td>\n",
       "      <td>1.5</td>\n",
       "      <td>0.2</td>\n",
       "    </tr>\n",
       "    <tr>\n",
       "      <th>4</th>\n",
       "      <td>5.0</td>\n",
       "      <td>3.6</td>\n",
       "      <td>1.4</td>\n",
       "      <td>0.2</td>\n",
       "    </tr>\n",
       "  </tbody>\n",
       "</table>\n",
       "</div>"
      ],
      "text/plain": [
       "   SepalLengthCm  SepalWidthCm  PetalLengthCm  PetalWidthCm\n",
       "0            5.1           3.5            1.4           0.2\n",
       "1            4.9           3.0            1.4           0.2\n",
       "2            4.7           3.2            1.3           0.2\n",
       "3            4.6           3.1            1.5           0.2\n",
       "4            5.0           3.6            1.4           0.2"
      ]
     },
     "execution_count": 150,
     "metadata": {},
     "output_type": "execute_result"
    }
   ],
   "source": [
    "df.head()"
   ]
  },
  {
   "cell_type": "markdown",
   "id": "c80ec1ea",
   "metadata": {},
   "source": [
    "### creating clusters using K=2"
   ]
  },
  {
   "cell_type": "code",
   "execution_count": 151,
   "id": "638e9428",
   "metadata": {},
   "outputs": [
    {
     "data": {
      "text/plain": [
       "KMeans(n_clusters=2)"
      ]
     },
     "execution_count": 151,
     "metadata": {},
     "output_type": "execute_result"
    }
   ],
   "source": [
    "k_means=KMeans(n_clusters=2)\n",
    "k_means.fit(df)"
   ]
  },
  {
   "cell_type": "code",
   "execution_count": 152,
   "id": "5ab4ac82",
   "metadata": {},
   "outputs": [],
   "source": [
    "### cluster output for all observations"
   ]
  },
  {
   "cell_type": "code",
   "execution_count": 153,
   "id": "a89d4a7f",
   "metadata": {},
   "outputs": [
    {
     "data": {
      "text/plain": [
       "array([1, 1, 1, 1, 1, 1, 1, 1, 1, 1, 1, 1, 1, 1, 1, 1, 1, 1, 1, 1, 1, 1,\n",
       "       1, 1, 1, 1, 1, 1, 1, 1, 1, 1, 1, 1, 1, 1, 1, 1, 1, 1, 1, 1, 1, 1,\n",
       "       1, 1, 1, 1, 1, 1, 0, 0, 0, 0, 0, 0, 0, 1, 0, 0, 0, 0, 0, 0, 0, 0,\n",
       "       0, 0, 0, 0, 0, 0, 0, 0, 0, 0, 0, 0, 0, 0, 0, 0, 0, 0, 0, 0, 0, 0,\n",
       "       0, 0, 0, 0, 0, 1, 0, 0, 0, 0, 1, 0, 0, 0, 0, 0, 0, 0, 0, 0, 0, 0,\n",
       "       0, 0, 0, 0, 0, 0, 0, 0, 0, 0, 0, 0, 0, 0, 0, 0, 0, 0, 0, 0, 0, 0,\n",
       "       0, 0, 0, 0, 0, 0, 0, 0, 0, 0, 0, 0, 0, 0, 0, 0, 0, 0])"
      ]
     },
     "execution_count": 153,
     "metadata": {},
     "output_type": "execute_result"
    }
   ],
   "source": [
    "k_means.labels_"
   ]
  },
  {
   "cell_type": "markdown",
   "id": "d3f880f6",
   "metadata": {},
   "source": [
    "Cluster mapping is provided here.0 indicates cluster1 and 1 indicates cluster2.\n",
    "It tells, which record  has mapped to which cluster.First record has maped to cluster1... and last record has mapped to \n",
    "cluster2."
   ]
  },
  {
   "cell_type": "code",
   "execution_count": 154,
   "id": "0f92e408",
   "metadata": {},
   "outputs": [
    {
     "data": {
      "text/plain": [
       "152.36870647733915"
      ]
     },
     "execution_count": 154,
     "metadata": {},
     "output_type": "execute_result"
    }
   ],
   "source": [
    "k_means.inertia_"
   ]
  },
  {
   "cell_type": "code",
   "execution_count": 155,
   "id": "d6964ca0",
   "metadata": {},
   "outputs": [],
   "source": [
    " # it gives the total within sum square for 2 clusters."
   ]
  },
  {
   "cell_type": "markdown",
   "id": "e7937a7f",
   "metadata": {},
   "source": [
    "### forming clusters for k=1,3,4and 5"
   ]
  },
  {
   "cell_type": "code",
   "execution_count": 156,
   "id": "9301ec09",
   "metadata": {},
   "outputs": [
    {
     "data": {
      "text/plain": [
       "78.94084142614601"
      ]
     },
     "execution_count": 156,
     "metadata": {},
     "output_type": "execute_result"
    }
   ],
   "source": [
    "k_means=KMeans(n_clusters=3)\n",
    "k_means.fit(df)\n",
    "k_means.inertia_"
   ]
  },
  {
   "cell_type": "code",
   "execution_count": 157,
   "id": "c27f8486",
   "metadata": {},
   "outputs": [
    {
     "data": {
      "text/plain": [
       "57.317873214285726"
      ]
     },
     "execution_count": 157,
     "metadata": {},
     "output_type": "execute_result"
    }
   ],
   "source": [
    "k_means=KMeans(n_clusters=4)\n",
    "k_means.fit(df)\n",
    "k_means.inertia_"
   ]
  },
  {
   "cell_type": "code",
   "execution_count": 158,
   "id": "7169f497",
   "metadata": {},
   "outputs": [
    {
     "data": {
      "text/plain": [
       "680.8243999999996"
      ]
     },
     "execution_count": 158,
     "metadata": {},
     "output_type": "execute_result"
    }
   ],
   "source": [
    "k_means=KMeans(n_clusters=1)\n",
    "k_means.fit(df)\n",
    "k_means.inertia_"
   ]
  },
  {
   "cell_type": "code",
   "execution_count": 159,
   "id": "f02d672f",
   "metadata": {},
   "outputs": [
    {
     "data": {
      "text/plain": [
       "46.535582051282034"
      ]
     },
     "execution_count": 159,
     "metadata": {},
     "output_type": "execute_result"
    }
   ],
   "source": [
    "k_means=KMeans(n_clusters=5)\n",
    "k_means.fit(df)\n",
    "k_means.inertia_"
   ]
  },
  {
   "cell_type": "markdown",
   "id": "58e45bf2",
   "metadata": {},
   "source": [
    "### claculating WSS for other values of K-Elbow method"
   ]
  },
  {
   "cell_type": "code",
   "execution_count": 160,
   "id": "d1cd5668",
   "metadata": {},
   "outputs": [],
   "source": [
    "wss=[]\n",
    "for i in range(1,11):\n",
    "    KM = KMeans(n_clusters=i)\n",
    "    KM.fit(df)\n",
    "    wss.append(KM.inertia_)"
   ]
  },
  {
   "cell_type": "code",
   "execution_count": 161,
   "id": "8bad0a97",
   "metadata": {},
   "outputs": [
    {
     "data": {
      "text/plain": [
       "[680.8243999999996,\n",
       " 152.36870647733915,\n",
       " 78.94084142614601,\n",
       " 57.317873214285726,\n",
       " 46.535582051282034,\n",
       " 39.19708292889162,\n",
       " 34.299985543844244,\n",
       " 30.3227497185477,\n",
       " 27.8792878787879,\n",
       " 26.788271989362556]"
      ]
     },
     "execution_count": 161,
     "metadata": {},
     "output_type": "execute_result"
    }
   ],
   "source": [
    "wss"
   ]
  },
  {
   "cell_type": "code",
   "execution_count": 162,
   "id": "0a1a1061",
   "metadata": {},
   "outputs": [
    {
     "data": {
      "text/plain": [
       "[<matplotlib.lines.Line2D at 0x2e1850b45b0>]"
      ]
     },
     "execution_count": 162,
     "metadata": {},
     "output_type": "execute_result"
    },
    {
     "data": {
      "image/png": "[encoded data removed]",
      "text/plain": [
       "<Figure size 432x288 with 1 Axes>"
      ]
     },
     "metadata": {
      "needs_background": "light"
     },
     "output_type": "display_data"
    }
   ],
   "source": [
    "plt.plot(range(1,11),wss)"
   ]
  },
  {
   "cell_type": "markdown",
   "id": "792e959b",
   "metadata": {},
   "source": [
    "### conclusion:\n",
    "we can conclude here, there is siginificant drop in within sum square(WSS) from 1to 2 and 2 to 3.But after 3 drop is very less.\n",
    "### Three is aoptimal number of clusters here."
   ]
  },
  {
   "cell_type": "markdown",
   "id": "739c370d",
   "metadata": {},
   "source": [
    "### Applying kmeans to the dataset / Creating the kmeans classifier for K=3"
   ]
  },
  {
   "cell_type": "markdown",
   "id": "8d856970",
   "metadata": {},
   "source": []
  },
  {
   "cell_type": "code",
   "execution_count": 164,
   "id": "86711551",
   "metadata": {},
   "outputs": [],
   "source": [
    "x =df.iloc[:, [0, 1, 2, 3]].values"
   ]
  },
  {
   "cell_type": "code",
   "execution_count": 167,
   "id": "11f7e9d7",
   "metadata": {},
   "outputs": [],
   "source": [
    "\n",
    "k_means = KMeans(n_clusters = 3, init = 'k-means++',\n",
    "                max_iter = 300, n_init = 10, random_state = 0)\n",
    "k_means.fit(df)\n",
    "label=k_means.labels_\n",
    "y_kmeans = k_means.fit_predict(x)"
   ]
  },
  {
   "cell_type": "code",
   "execution_count": 168,
   "id": "043bbc49",
   "metadata": {},
   "outputs": [
    {
     "data": {
      "text/plain": [
       "array([1, 1, 1, 1, 1, 1, 1, 1, 1, 1, 1, 1, 1, 1, 1, 1, 1, 1, 1, 1, 1, 1,\n",
       "       1, 1, 1, 1, 1, 1, 1, 1, 1, 1, 1, 1, 1, 1, 1, 1, 1, 1, 1, 1, 1, 1,\n",
       "       1, 1, 1, 1, 1, 1, 0, 0, 2, 0, 0, 0, 0, 0, 0, 0, 0, 0, 0, 0, 0, 0,\n",
       "       0, 0, 0, 0, 0, 0, 0, 0, 0, 0, 0, 2, 0, 0, 0, 0, 0, 0, 0, 0, 0, 0,\n",
       "       0, 0, 0, 0, 0, 0, 0, 0, 0, 0, 0, 0, 2, 0, 2, 2, 2, 2, 0, 2, 2, 2,\n",
       "       2, 2, 2, 0, 0, 2, 2, 2, 2, 0, 2, 0, 2, 0, 2, 2, 0, 0, 2, 2, 2, 2,\n",
       "       2, 0, 2, 2, 2, 2, 0, 2, 2, 2, 0, 2, 2, 2, 0, 2, 2, 0])"
      ]
     },
     "execution_count": 168,
     "metadata": {},
     "output_type": "execute_result"
    }
   ],
   "source": [
    "label"
   ]
  },
  {
   "cell_type": "code",
   "execution_count": 169,
   "id": "6fa0899a",
   "metadata": {},
   "outputs": [],
   "source": [
    "df[\"Clust_label\"]=label"
   ]
  },
  {
   "cell_type": "code",
   "execution_count": 170,
   "id": "79170382",
   "metadata": {},
   "outputs": [
    {
     "data": {
      "text/html": [
       "<div>\n",
       "<style scoped>\n",
       "    .dataframe tbody tr th:only-of-type {\n",
       "        vertical-align: middle;\n",
       "    }\n",
       "\n",
       "    .dataframe tbody tr th {\n",
       "        vertical-align: top;\n",
       "    }\n",
       "\n",
       "    .dataframe thead th {\n",
       "        text-align: right;\n",
       "    }\n",
       "</style>\n",
       "<table border=\"1\" class=\"dataframe\">\n",
       "  <thead>\n",
       "    <tr style=\"text-align: right;\">\n",
       "      <th></th>\n",
       "      <th>SepalLengthCm</th>\n",
       "      <th>SepalWidthCm</th>\n",
       "      <th>PetalLengthCm</th>\n",
       "      <th>PetalWidthCm</th>\n",
       "      <th>Clust_label</th>\n",
       "    </tr>\n",
       "  </thead>\n",
       "  <tbody>\n",
       "    <tr>\n",
       "      <th>0</th>\n",
       "      <td>5.1</td>\n",
       "      <td>3.5</td>\n",
       "      <td>1.4</td>\n",
       "      <td>0.2</td>\n",
       "      <td>1</td>\n",
       "    </tr>\n",
       "    <tr>\n",
       "      <th>1</th>\n",
       "      <td>4.9</td>\n",
       "      <td>3.0</td>\n",
       "      <td>1.4</td>\n",
       "      <td>0.2</td>\n",
       "      <td>1</td>\n",
       "    </tr>\n",
       "    <tr>\n",
       "      <th>2</th>\n",
       "      <td>4.7</td>\n",
       "      <td>3.2</td>\n",
       "      <td>1.3</td>\n",
       "      <td>0.2</td>\n",
       "      <td>1</td>\n",
       "    </tr>\n",
       "    <tr>\n",
       "      <th>3</th>\n",
       "      <td>4.6</td>\n",
       "      <td>3.1</td>\n",
       "      <td>1.5</td>\n",
       "      <td>0.2</td>\n",
       "      <td>1</td>\n",
       "    </tr>\n",
       "    <tr>\n",
       "      <th>4</th>\n",
       "      <td>5.0</td>\n",
       "      <td>3.6</td>\n",
       "      <td>1.4</td>\n",
       "      <td>0.2</td>\n",
       "      <td>1</td>\n",
       "    </tr>\n",
       "  </tbody>\n",
       "</table>\n",
       "</div>"
      ],
      "text/plain": [
       "   SepalLengthCm  SepalWidthCm  PetalLengthCm  PetalWidthCm  Clust_label\n",
       "0            5.1           3.5            1.4           0.2            1\n",
       "1            4.9           3.0            1.4           0.2            1\n",
       "2            4.7           3.2            1.3           0.2            1\n",
       "3            4.6           3.1            1.5           0.2            1\n",
       "4            5.0           3.6            1.4           0.2            1"
      ]
     },
     "execution_count": 170,
     "metadata": {},
     "output_type": "execute_result"
    }
   ],
   "source": [
    "df.head()"
   ]
  },
  {
   "cell_type": "code",
   "execution_count": 171,
   "id": "c8c88e1e",
   "metadata": {},
   "outputs": [],
   "source": [
    "# now we are going to perfomn sihouette algo ,to find mapping of each custerd record to different cluster is correct or not."
   ]
  },
  {
   "cell_type": "markdown",
   "id": "85e028eb",
   "metadata": {},
   "source": [
    "### cluster evaluation for 3 clusters:silhouette score"
   ]
  },
  {
   "cell_type": "code",
   "execution_count": 172,
   "id": "ce500fe7",
   "metadata": {},
   "outputs": [],
   "source": [
    "from sklearn.metrics import silhouette_samples,silhouette_score "
   ]
  },
  {
   "cell_type": "code",
   "execution_count": 173,
   "id": "7fc3c5eb",
   "metadata": {},
   "outputs": [
    {
     "data": {
      "text/plain": [
       "0.684936462996038"
      ]
     },
     "execution_count": 173,
     "metadata": {},
     "output_type": "execute_result"
    }
   ],
   "source": [
    "silhouette_score(df,label) ## avg silwidth"
   ]
  },
  {
   "cell_type": "code",
   "execution_count": 174,
   "id": "2224f65c",
   "metadata": {},
   "outputs": [
    {
     "data": {
      "text/plain": [
       "array([0.85752576, 0.82534456, 0.83642327, 0.81442036, 0.85297153,\n",
       "       0.75801462, 0.82792872, 0.85957816, 0.76306866, 0.83610659,\n",
       "       0.80983762, 0.84267216, 0.82062503, 0.75505295, 0.71141173,\n",
       "       0.65505334, 0.7821865 , 0.85579133, 0.71934626, 0.82527445,\n",
       "       0.79464025, 0.83124829, 0.79801814, 0.80469173, 0.78633191,\n",
       "       0.81044347, 0.84063301, 0.84773465, 0.8495841 , 0.82692472,\n",
       "       0.82542226, 0.80776058, 0.76914886, 0.73016125, 0.83610659,\n",
       "       0.8390732 , 0.80151735, 0.83610659, 0.77803719, 0.85630004,\n",
       "       0.85373487, 0.65461184, 0.79457425, 0.80856425, 0.75809852,\n",
       "       0.8193628 , 0.81899172, 0.82678086, 0.82407951, 0.8583669 ,\n",
       "       0.44551038, 0.62673275, 0.49434457, 0.68165327, 0.63302537,\n",
       "       0.718578  , 0.59471359, 0.32560623, 0.60733933, 0.63163308,\n",
       "       0.41419838, 0.71362396, 0.6547472 , 0.68726839, 0.59275097,\n",
       "       0.58018263, 0.69710217, 0.70756903, 0.63981518, 0.6725796 ,\n",
       "       0.61063844, 0.70336641, 0.60913122, 0.68032958, 0.67005554,\n",
       "       0.61703881, 0.5205472 , 0.55413453, 0.71465298, 0.54229449,\n",
       "       0.63083176, 0.58812135, 0.70278274, 0.59702385, 0.67423205,\n",
       "       0.62723465, 0.54445843, 0.65160339, 0.70818308, 0.69908932,\n",
       "       0.7029852 , 0.69276939, 0.71766005, 0.34961639, 0.72569154,\n",
       "       0.71295709, 0.7263969 , 0.70330669, 0.22713337, 0.72774386,\n",
       "       0.639814  , 0.56778871, 0.72094552, 0.63260009, 0.7075472 ,\n",
       "       0.6255609 , 0.58904313, 0.66079974, 0.63434046, 0.65516276,\n",
       "       0.6040533 , 0.59571218, 0.71840875, 0.56403852, 0.44841227,\n",
       "       0.64052162, 0.66786319, 0.57177386, 0.56161519, 0.58005993,\n",
       "       0.72667349, 0.58780436, 0.59504146, 0.59056815, 0.71997818,\n",
       "       0.69041542, 0.62779897, 0.60705672, 0.66944863, 0.66086777,\n",
       "       0.66611508, 0.56796981, 0.66846319, 0.56561663, 0.4683856 ,\n",
       "       0.64270717, 0.6392206 , 0.65170674, 0.63581597, 0.70405659,\n",
       "       0.7117309 , 0.63154493, 0.56778871, 0.7246975 , 0.69602517,\n",
       "       0.65288189, 0.53774696, 0.63340845, 0.59942329, 0.56678209])"
      ]
     },
     "execution_count": 174,
     "metadata": {},
     "output_type": "execute_result"
    }
   ],
   "source": [
    "silhouette_samples(df,label)"
   ]
  },
  {
   "cell_type": "code",
   "execution_count": 175,
   "id": "75562971",
   "metadata": {},
   "outputs": [],
   "source": [
    "sw_samp=silhouette_samples(df,label)"
   ]
  },
  {
   "cell_type": "code",
   "execution_count": 176,
   "id": "b69517ea",
   "metadata": {},
   "outputs": [],
   "source": [
    "df[\"sil_witdh\"]=sw_samp   # create a column sil_width"
   ]
  },
  {
   "cell_type": "code",
   "execution_count": 177,
   "id": "d6a17cdb",
   "metadata": {},
   "outputs": [
    {
     "data": {
      "text/html": [
       "<div>\n",
       "<style scoped>\n",
       "    .dataframe tbody tr th:only-of-type {\n",
       "        vertical-align: middle;\n",
       "    }\n",
       "\n",
       "    .dataframe tbody tr th {\n",
       "        vertical-align: top;\n",
       "    }\n",
       "\n",
       "    .dataframe thead th {\n",
       "        text-align: right;\n",
       "    }\n",
       "</style>\n",
       "<table border=\"1\" class=\"dataframe\">\n",
       "  <thead>\n",
       "    <tr style=\"text-align: right;\">\n",
       "      <th></th>\n",
       "      <th>SepalLengthCm</th>\n",
       "      <th>SepalWidthCm</th>\n",
       "      <th>PetalLengthCm</th>\n",
       "      <th>PetalWidthCm</th>\n",
       "      <th>Clust_label</th>\n",
       "      <th>sil_witdh</th>\n",
       "    </tr>\n",
       "  </thead>\n",
       "  <tbody>\n",
       "    <tr>\n",
       "      <th>0</th>\n",
       "      <td>5.1</td>\n",
       "      <td>3.5</td>\n",
       "      <td>1.4</td>\n",
       "      <td>0.2</td>\n",
       "      <td>1</td>\n",
       "      <td>0.857526</td>\n",
       "    </tr>\n",
       "    <tr>\n",
       "      <th>1</th>\n",
       "      <td>4.9</td>\n",
       "      <td>3.0</td>\n",
       "      <td>1.4</td>\n",
       "      <td>0.2</td>\n",
       "      <td>1</td>\n",
       "      <td>0.825345</td>\n",
       "    </tr>\n",
       "    <tr>\n",
       "      <th>2</th>\n",
       "      <td>4.7</td>\n",
       "      <td>3.2</td>\n",
       "      <td>1.3</td>\n",
       "      <td>0.2</td>\n",
       "      <td>1</td>\n",
       "      <td>0.836423</td>\n",
       "    </tr>\n",
       "    <tr>\n",
       "      <th>3</th>\n",
       "      <td>4.6</td>\n",
       "      <td>3.1</td>\n",
       "      <td>1.5</td>\n",
       "      <td>0.2</td>\n",
       "      <td>1</td>\n",
       "      <td>0.814420</td>\n",
       "    </tr>\n",
       "    <tr>\n",
       "      <th>4</th>\n",
       "      <td>5.0</td>\n",
       "      <td>3.6</td>\n",
       "      <td>1.4</td>\n",
       "      <td>0.2</td>\n",
       "      <td>1</td>\n",
       "      <td>0.852972</td>\n",
       "    </tr>\n",
       "  </tbody>\n",
       "</table>\n",
       "</div>"
      ],
      "text/plain": [
       "   SepalLengthCm  SepalWidthCm  PetalLengthCm  PetalWidthCm  Clust_label  \\\n",
       "0            5.1           3.5            1.4           0.2            1   \n",
       "1            4.9           3.0            1.4           0.2            1   \n",
       "2            4.7           3.2            1.3           0.2            1   \n",
       "3            4.6           3.1            1.5           0.2            1   \n",
       "4            5.0           3.6            1.4           0.2            1   \n",
       "\n",
       "   sil_witdh  \n",
       "0   0.857526  \n",
       "1   0.825345  \n",
       "2   0.836423  \n",
       "3   0.814420  \n",
       "4   0.852972  "
      ]
     },
     "execution_count": 177,
     "metadata": {},
     "output_type": "execute_result"
    }
   ],
   "source": [
    "\n",
    "df=df.head()\n",
    "df"
   ]
  },
  {
   "cell_type": "code",
   "execution_count": 179,
   "id": "5a97e3c6",
   "metadata": {},
   "outputs": [
    {
     "data": {
      "text/plain": [
       "0.2298067125917293"
      ]
     },
     "execution_count": 179,
     "metadata": {},
     "output_type": "execute_result"
    }
   ],
   "source": [
    "silhouette_samples(df,label).min() "
   ]
  },
  {
   "cell_type": "markdown",
   "id": "bbf0bf40",
   "metadata": {},
   "source": [
    "### conclusion:\n",
    "Since minimum value of silwidth is positive.Hence, we can say all the records are correctly mapped to clusters. "
   ]
  },
  {
   "cell_type": "markdown",
   "id": "5fe7dd1e",
   "metadata": {},
   "source": [
    "### Visualising the clusters - On the first two columns(SepalLenght and SepalWidth)"
   ]
  },
  {
   "cell_type": "code",
   "execution_count": 180,
   "id": "476d397f",
   "metadata": {},
   "outputs": [
    {
     "data": {
      "text/plain": [
       "<matplotlib.legend.Legend at 0x2e185119d90>"
      ]
     },
     "execution_count": 180,
     "metadata": {},
     "output_type": "execute_result"
    },
    {
     "data": {
      "image/png": "[encoded data removed]",
      "text/plain": [
       "<Figure size 432x288 with 1 Axes>"
      ]
     },
     "metadata": {
      "needs_background": "light"
     },
     "output_type": "display_data"
    }
   ],
   "source": [
    "# Visualising the clusters - On the first two columns\n",
    "plt.scatter(x[y_kmeans == 0, 0], x[y_kmeans == 0, 1], \n",
    "            s = 100, c = 'red', label = 'Iris-setosa')\n",
    "plt.scatter(x[y_kmeans == 1, 0], x[y_kmeans == 1, 1], \n",
    "            s = 100, c = 'blue', label = 'Iris-versicolour')\n",
    "plt.scatter(x[y_kmeans == 2, 0], x[y_kmeans == 2, 1],\n",
    "            s = 100, c = 'green', label = 'Iris-virginica')\n",
    "\n",
    "# Plotting the centroids of the clusters\n",
    "plt.scatter(k_means.cluster_centers_[:, 0], k_means.cluster_centers_[:,1], \n",
    "            s = 100, c = 'yellow', label = 'Centroids')\n",
    "plt.xlabel(\"sepallenght\")\n",
    "plt.ylabel(\"Sepalwidht\")\n",
    "plt.title(\"cluster analysis\")\n",
    "\n",
    "plt.legend()"
   ]
  },
  {
   "cell_type": "markdown",
   "id": "5f6c73f2",
   "metadata": {},
   "source": [
    "### Conclusion:"
   ]
  },
  {
   "cell_type": "markdown",
   "id": "0de23980",
   "metadata": {},
   "source": [
    "Flowers having Sepallenght between 5 to 7 and Sepalwidth between 2 to 3.4(low in range) are Iris-setosa.\n",
    "\n",
    "Flowers having Sepallenght between 4.1 to 5.9(low in range) and Sepal width between 2.3 to 4.5 are Iris-versicolour.\n",
    "\n",
    "Flowers having Sepallenght between 6.1 to 7.9(high in range) and Sepalwidth between 2.4 to 3.9 are Iris-virginica."
   ]
  },
  {
   "cell_type": "code",
   "execution_count": 1,
   "id": "a6753132",
   "metadata": {},
   "outputs": [],
   "source": [
    "## Thank you"
   ]
  },
  {
   "cell_type": "code",
   "execution_count": null,
   "id": "956774f6",
   "metadata": {},
   "outputs": [],
   "source": []
  }
 ],
 "metadata": {
  "kernelspec": {
   "display_name": "Python 3",
   "language": "python",
   "name": "python3"
  },
  "language_info": {
   "codemirror_mode": {
    "name": "ipython",
    "version": 3
   },
   "file_extension": ".py",
   "mimetype": "text/x-python",
   "name": "python",
   "nbconvert_exporter": "python",
   "pygments_lexer": "ipython3",
   "version": "3.8.8"
  }
 },
 "nbformat": 4,
 "nbformat_minor": 5
}
